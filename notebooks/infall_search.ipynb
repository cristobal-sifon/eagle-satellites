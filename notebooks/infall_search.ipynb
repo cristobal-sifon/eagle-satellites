{
 "cells": [
  {
   "cell_type": "markdown",
   "metadata": {},
   "source": [
    "# An efficient search algorithm for track.infall"
   ]
  },
  {
   "cell_type": "code",
   "execution_count": 1,
   "metadata": {},
   "outputs": [],
   "source": [
    "%import_all"
   ]
  },
  {
   "cell_type": "markdown",
   "metadata": {},
   "source": [
    "set up the host array"
   ]
  },
  {
   "cell_type": "code",
   "execution_count": 99,
   "metadata": {},
   "outputs": [],
   "source": [
    "n = 1000\n",
    "target = 19\n",
    "snapshots = np.arange(n)\n",
    "rdm = np.random.random(n)\n",
    "host = np.where(snapshots <= target, 1, 2)\n",
    "current = host[-1]\n",
    "# host, current"
   ]
  },
  {
   "cell_type": "markdown",
   "metadata": {},
   "source": [
    "now find the last time the host wasn't 2. Note that I have to go one by one because in real life (i.e., HBT+) I have to load the subhalos at every snapshot"
   ]
  },
  {
   "cell_type": "code",
   "execution_count": 100,
   "metadata": {},
   "outputs": [
    {
     "data": {
      "text/plain": [
       "19"
      ]
     },
     "execution_count": 100,
     "metadata": {},
     "output_type": "execute_result"
    }
   ],
   "source": [
    "def find_naive(snapshots, host, current, imin=0, imax=None):\n",
    "    if not imax:\n",
    "        imax = snapshots.size\n",
    "    for isnap in snapshots[np.arange(imax-1, imin-1, -1)]:\n",
    "        if host[isnap] != current:\n",
    "            return isnap\n",
    "    return -1\n",
    "find_naive(snapshots, host, current)"
   ]
  },
  {
   "cell_type": "code",
   "execution_count": 101,
   "metadata": {},
   "outputs": [
    {
     "name": "stdout",
     "output_type": "stream",
     "text": [
      "421 µs ± 148 µs per loop (mean ± std. dev. of 7 runs, 1000 loops each)\n"
     ]
    }
   ],
   "source": [
    "%timeit find_naive(snapshots, host, current)"
   ]
  },
  {
   "cell_type": "code",
   "execution_count": 102,
   "metadata": {},
   "outputs": [
    {
     "data": {
      "text/plain": [
       "19"
      ]
     },
     "execution_count": 102,
     "metadata": {},
     "output_type": "execute_result"
    }
   ],
   "source": [
    "def find_smarter(snapshots, host, current, min_rng=5):\n",
    "    \"\"\"\n",
    "    Check the host id at snapshot number half of current each time.\n",
    "    When the range is down to ``min_rng``, then we just search the\n",
    "    range one by one (this is my guess where it's no longer\n",
    "    efficient to continue splitting in half)\n",
    "    \"\"\"\n",
    "    imin = 0\n",
    "    imax = snapshots.size\n",
    "    while imax-imin > min_rng:\n",
    "        # here I would load the snapshot as a Subhalos object\n",
    "        mid = (imin+imax) // 2\n",
    "        # this means the subhalo was still in the same host,\n",
    "        # so we should search the first half\n",
    "        if host[mid] == current:\n",
    "            imax = mid\n",
    "        else:\n",
    "            imin = mid\n",
    "    return find_naive(snapshots, host, current, imin=imin, imax=imax)\n",
    "find_smarter(snapshots, host, current)"
   ]
  },
  {
   "cell_type": "code",
   "execution_count": 103,
   "metadata": {},
   "outputs": [
    {
     "name": "stdout",
     "output_type": "stream",
     "text": [
      "8.08 µs ± 735 ns per loop (mean ± std. dev. of 7 runs, 100000 loops each)\n"
     ]
    }
   ],
   "source": [
    "%timeit find_smarter(snapshots, host, current)"
   ]
  },
  {
   "cell_type": "code",
   "execution_count": 106,
   "metadata": {},
   "outputs": [
    {
     "name": "stdout",
     "output_type": "stream",
     "text": [
      "True\n"
     ]
    }
   ],
   "source": [
    "x = None\n",
    "if x is None or 3 not in x:\n",
    "    print(True)"
   ]
  },
  {
   "cell_type": "code",
   "execution_count": null,
   "metadata": {},
   "outputs": [],
   "source": []
  }
 ],
 "metadata": {
  "kernelspec": {
   "display_name": "Python [default]",
   "language": "python",
   "name": "python3"
  },
  "language_info": {
   "codemirror_mode": {
    "name": "ipython",
    "version": 3
   },
   "file_extension": ".py",
   "mimetype": "text/x-python",
   "name": "python",
   "nbconvert_exporter": "python",
   "pygments_lexer": "ipython3",
   "version": "3.6.4"
  }
 },
 "nbformat": 4,
 "nbformat_minor": 2
}
