{
 "cells": [
  {
   "cell_type": "markdown",
   "metadata": {},
   "source": [
    "# Make sure that the outputs of `store_subhalo_times.py` are correct"
   ]
  },
  {
   "cell_type": "code",
   "execution_count": 1,
   "metadata": {},
   "outputs": [],
   "source": [
    "%matplotlib inline\n",
    "from glob import glob\n",
    "import h5py\n",
    "from matplotlib import pyplot as plt\n",
    "import numpy as np\n",
    "import os\n",
    "import pandas as pd"
   ]
  },
  {
   "cell_type": "code",
   "execution_count": 2,
   "metadata": {},
   "outputs": [],
   "source": [
    "from plottery.plotutils import savefig, update_rcParams\n",
    "update_rcParams()"
   ]
  },
  {
   "cell_type": "code",
   "execution_count": 3,
   "metadata": {},
   "outputs": [],
   "source": [
    "filename = 'data/eagle_L0100N1504/history/history.h5'"
   ]
  },
  {
   "cell_type": "code",
   "execution_count": null,
   "metadata": {},
   "outputs": [],
   "source": [
    "np.random.seed(31)"
   ]
  },
  {
   "cell_type": "code",
   "execution_count": 5,
   "metadata": {},
   "outputs": [
    {
     "name": "stdout",
     "output_type": "stream",
     "text": [
      "<KeysViewHDF5 ['cent', 'first_infall', 'last_infall', 'sat', 'trackids']>\n",
      "cent <KeysViewHDF5 ['Mbound', 'Mdm', 'Mgas', 'Mstar', 'isnap', 'time', 'z']>\n",
      "first_infall <KeysViewHDF5 ['Mbound', 'Mdm', 'Mgas', 'Mstar', 'isnap', 'time', 'z']>\n",
      "last_infall <KeysViewHDF5 ['Mbound', 'Mdm', 'Mgas', 'Mstar', 'isnap', 'time', 'z']>\n",
      "sat <KeysViewHDF5 ['Mbound', 'Mdm', 'Mgas', 'Mstar', 'isnap', 'time', 'z']>\n",
      "trackids <KeysViewHDF5 ['TrackId', 'TrackId_current_host', 'TrackId_previous_host']>\n",
      "tr ItemsViewHDF5(<HDF5 group \"/trackids\" (3 members)>)\n",
      "[    26  90621   1221 ... 512106 148399 512132]\n"
     ]
    },
    {
     "data": {
      "text/plain": [
       "(75566,)"
      ]
     },
     "execution_count": 5,
     "metadata": {},
     "output_type": "execute_result"
    }
   ],
   "source": [
    "with h5py.File(filename, 'r') as hdf:\n",
    "    print(hdf.keys())\n",
    "    for key in hdf.keys():\n",
    "        print(key, hdf[key].keys())\n",
    "    tr = hdf.get('trackids')\n",
    "    print('tr', tr.items())\n",
    "    trackid = np.array(hdf.get('trackids/TrackId_current_host'))\n",
    "    msat = np.array(hdf.get('sat/Mbound'))\n",
    "    mfinf = np.array(hdf.get('first_infall/Mbound'))\n",
    "    mlinf = np.array(hdf.get('last_infall/Mbound'))\n",
    "print(trackid)\n",
    "msat.shape"
   ]
  },
  {
   "cell_type": "code",
   "execution_count": 7,
   "metadata": {},
   "outputs": [
    {
     "name": "stdout",
     "output_type": "stream",
     "text": [
      "[7.485e+02 1.448e+02 5.594e+01 ... 1.080e-01 2.247e-01 1.697e-01]\n",
      "[7.4829114e+02 1.4473894e+02 5.3317688e+01 ... 1.0723877e-01 2.2470538e-01\n",
      " 1.6963711e-01]\n"
     ]
    }
   ],
   "source": [
    "print(mfinf)\n",
    "print(mlinf)"
   ]
  },
  {
   "cell_type": "code",
   "execution_count": 13,
   "metadata": {},
   "outputs": [],
   "source": [
    "df = pd.DataFrame({'x': np.random.random(10)})"
   ]
  },
  {
   "cell_type": "code",
   "execution_count": 36,
   "metadata": {},
   "outputs": [
    {
     "data": {
      "text/plain": [
       "array([    26,  90621,   1221, ..., 512106, 148399, 512132], dtype=int32)"
      ]
     },
     "execution_count": 36,
     "metadata": {},
     "output_type": "execute_result"
    }
   ],
   "source": [
    "trackid"
   ]
  },
  {
   "cell_type": "code",
   "execution_count": 38,
   "metadata": {},
   "outputs": [
    {
     "name": "stdout",
     "output_type": "stream",
     "text": [
      "Help on built-in function default_rng in module numpy.random._generator:\n",
      "\n",
      "default_rng(...)\n",
      "    Construct a new Generator with the default BitGenerator (PCG64).\n",
      "    \n",
      "    Parameters\n",
      "    ----------\n",
      "    seed : {None, int, array_like[ints], SeedSequence, BitGenerator, Generator}, optional\n",
      "        A seed to initialize the `BitGenerator`. If None, then fresh,\n",
      "        unpredictable entropy will be pulled from the OS. If an ``int`` or\n",
      "        ``array_like[ints]`` is passed, then it will be passed to\n",
      "        `SeedSequence` to derive the initial `BitGenerator` state. One may also\n",
      "        pass in a`SeedSequence` instance\n",
      "        Additionally, when passed a `BitGenerator`, it will be wrapped by\n",
      "        `Generator`. If passed a `Generator`, it will be returned unaltered.\n",
      "    \n",
      "    Returns\n",
      "    -------\n",
      "    Generator\n",
      "        The initialized generator object.\n",
      "    \n",
      "    Notes\n",
      "    -----\n",
      "    If ``seed`` is not a `BitGenerator` or a `Generator`, a new `BitGenerator`\n",
      "    is instantiated. This function does not manage a default global instance.\n",
      "\n"
     ]
    }
   ],
   "source": [
    "help(np.random.default_rng)"
   ]
  },
  {
   "cell_type": "code",
   "execution_count": null,
   "metadata": {},
   "outputs": [],
   "source": []
  }
 ],
 "metadata": {
  "kernelspec": {
   "display_name": "Python [conda env:astroconda]",
   "language": "python",
   "name": "conda-env-astroconda-py"
  },
  "language_info": {
   "codemirror_mode": {
    "name": "ipython",
    "version": 3
   },
   "file_extension": ".py",
   "mimetype": "text/x-python",
   "name": "python",
   "nbconvert_exporter": "python",
   "pygments_lexer": "ipython3",
   "version": "3.6.10"
  }
 },
 "nbformat": 4,
 "nbformat_minor": 4
}
