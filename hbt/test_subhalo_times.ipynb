{
 "cells": [
  {
   "cell_type": "markdown",
   "metadata": {},
   "source": [
    "# Make sure that the outputs of `store_subhalo_times.py` are correct"
   ]
  },
  {
   "cell_type": "code",
   "execution_count": 8,
   "metadata": {},
   "outputs": [],
   "source": [
    "%matplotlib inline\n",
    "from glob import glob\n",
    "import h5py\n",
    "from matplotlib import pyplot as plt\n",
    "import numpy as np\n",
    "import os\n",
    "import pandas as pd"
   ]
  },
  {
   "cell_type": "code",
   "execution_count": 1,
   "metadata": {
    "collapsed": true,
    "jupyter": {
     "outputs_hidden": true
    }
   },
   "outputs": [
    {
     "name": "stdout",
     "output_type": "stream",
     "text": [
      "Help on function binned_statistic in module scipy.stats._binned_statistic:\n",
      "\n",
      "binned_statistic(x, values, statistic='mean', bins=10, range=None)\n",
      "    Compute a binned statistic for one or more sets of data.\n",
      "    \n",
      "    This is a generalization of a histogram function.  A histogram divides\n",
      "    the space into bins, and returns the count of the number of points in\n",
      "    each bin.  This function allows the computation of the sum, mean, median,\n",
      "    or other statistic of the values (or set of values) within each bin.\n",
      "    \n",
      "    Parameters\n",
      "    ----------\n",
      "    x : (N,) array_like\n",
      "        A sequence of values to be binned.\n",
      "    values : (N,) array_like or list of (N,) array_like\n",
      "        The data on which the statistic will be computed.  This must be\n",
      "        the same shape as `x`, or a set of sequences - each the same shape as\n",
      "        `x`.  If `values` is a set of sequences, the statistic will be computed\n",
      "        on each independently.\n",
      "    statistic : string or callable, optional\n",
      "        The statistic to compute (default is 'mean').\n",
      "        The following statistics are available:\n",
      "    \n",
      "          * 'mean' : compute the mean of values for points within each bin.\n",
      "            Empty bins will be represented by NaN.\n",
      "          * 'std' : compute the standard deviation within each bin. This\n",
      "            is implicitly calculated with ddof=0.\n",
      "          * 'median' : compute the median of values for points within each\n",
      "            bin. Empty bins will be represented by NaN.\n",
      "          * 'count' : compute the count of points within each bin.  This is\n",
      "            identical to an unweighted histogram.  `values` array is not\n",
      "            referenced.\n",
      "          * 'sum' : compute the sum of values for points within each bin.\n",
      "            This is identical to a weighted histogram.\n",
      "          * 'min' : compute the minimum of values for points within each bin.\n",
      "            Empty bins will be represented by NaN.\n",
      "          * 'max' : compute the maximum of values for point within each bin.\n",
      "            Empty bins will be represented by NaN.\n",
      "          * function : a user-defined function which takes a 1D array of\n",
      "            values, and outputs a single numerical statistic. This function\n",
      "            will be called on the values in each bin.  Empty bins will be\n",
      "            represented by function([]), or NaN if this returns an error.\n",
      "    \n",
      "    bins : int or sequence of scalars, optional\n",
      "        If `bins` is an int, it defines the number of equal-width bins in the\n",
      "        given range (10 by default).  If `bins` is a sequence, it defines the\n",
      "        bin edges, including the rightmost edge, allowing for non-uniform bin\n",
      "        widths.  Values in `x` that are smaller than lowest bin edge are\n",
      "        assigned to bin number 0, values beyond the highest bin are assigned to\n",
      "        ``bins[-1]``.  If the bin edges are specified, the number of bins will\n",
      "        be, (nx = len(bins)-1).\n",
      "    range : (float, float) or [(float, float)], optional\n",
      "        The lower and upper range of the bins.  If not provided, range\n",
      "        is simply ``(x.min(), x.max())``.  Values outside the range are\n",
      "        ignored.\n",
      "    \n",
      "    Returns\n",
      "    -------\n",
      "    statistic : array\n",
      "        The values of the selected statistic in each bin.\n",
      "    bin_edges : array of dtype float\n",
      "        Return the bin edges ``(length(statistic)+1)``.\n",
      "    binnumber: 1-D ndarray of ints\n",
      "        Indices of the bins (corresponding to `bin_edges`) in which each value\n",
      "        of `x` belongs.  Same length as `values`.  A binnumber of `i` means the\n",
      "        corresponding value is between (bin_edges[i-1], bin_edges[i]).\n",
      "    \n",
      "    See Also\n",
      "    --------\n",
      "    numpy.digitize, numpy.histogram, binned_statistic_2d, binned_statistic_dd\n",
      "    \n",
      "    Notes\n",
      "    -----\n",
      "    All but the last (righthand-most) bin is half-open.  In other words, if\n",
      "    `bins` is ``[1, 2, 3, 4]``, then the first bin is ``[1, 2)`` (including 1,\n",
      "    but excluding 2) and the second ``[2, 3)``.  The last bin, however, is\n",
      "    ``[3, 4]``, which *includes* 4.\n",
      "    \n",
      "    .. versionadded:: 0.11.0\n",
      "    \n",
      "    Examples\n",
      "    --------\n",
      "    >>> from scipy import stats\n",
      "    >>> import matplotlib.pyplot as plt\n",
      "    \n",
      "    First some basic examples:\n",
      "    \n",
      "    Create two evenly spaced bins in the range of the given sample, and sum the\n",
      "    corresponding values in each of those bins:\n",
      "    \n",
      "    >>> values = [1.0, 1.0, 2.0, 1.5, 3.0]\n",
      "    >>> stats.binned_statistic([1, 1, 2, 5, 7], values, 'sum', bins=2)\n",
      "    BinnedStatisticResult(statistic=array([4. , 4.5]), bin_edges=array([1., 4., 7.]), binnumber=array([1, 1, 1, 2, 2]))\n",
      "    \n",
      "    Multiple arrays of values can also be passed.  The statistic is calculated\n",
      "    on each set independently:\n",
      "    \n",
      "    >>> values = [[1.0, 1.0, 2.0, 1.5, 3.0], [2.0, 2.0, 4.0, 3.0, 6.0]]\n",
      "    >>> stats.binned_statistic([1, 1, 2, 5, 7], values, 'sum', bins=2)\n",
      "    BinnedStatisticResult(statistic=array([[4. , 4.5],\n",
      "           [8. , 9. ]]), bin_edges=array([1., 4., 7.]), binnumber=array([1, 1, 1, 2, 2]))\n",
      "    \n",
      "    >>> stats.binned_statistic([1, 2, 1, 2, 4], np.arange(5), statistic='mean',\n",
      "    ...                        bins=3)\n",
      "    BinnedStatisticResult(statistic=array([1., 2., 4.]), bin_edges=array([1., 2., 3., 4.]), binnumber=array([1, 2, 1, 2, 3]))\n",
      "    \n",
      "    As a second example, we now generate some random data of sailing boat speed\n",
      "    as a function of wind speed, and then determine how fast our boat is for\n",
      "    certain wind speeds:\n",
      "    \n",
      "    >>> windspeed = 8 * np.random.rand(500)\n",
      "    >>> boatspeed = .3 * windspeed**.5 + .2 * np.random.rand(500)\n",
      "    >>> bin_means, bin_edges, binnumber = stats.binned_statistic(windspeed,\n",
      "    ...                 boatspeed, statistic='median', bins=[1,2,3,4,5,6,7])\n",
      "    >>> plt.figure()\n",
      "    >>> plt.plot(windspeed, boatspeed, 'b.', label='raw data')\n",
      "    >>> plt.hlines(bin_means, bin_edges[:-1], bin_edges[1:], colors='g', lw=5,\n",
      "    ...            label='binned statistic of data')\n",
      "    >>> plt.legend()\n",
      "    \n",
      "    Now we can use ``binnumber`` to select all datapoints with a windspeed\n",
      "    below 1:\n",
      "    \n",
      "    >>> low_boatspeed = boatspeed[binnumber == 0]\n",
      "    \n",
      "    As a final example, we will use ``bin_edges`` and ``binnumber`` to make a\n",
      "    plot of a distribution that shows the mean and distribution around that\n",
      "    mean per bin, on top of a regular histogram and the probability\n",
      "    distribution function:\n",
      "    \n",
      "    >>> x = np.linspace(0, 5, num=500)\n",
      "    >>> x_pdf = stats.maxwell.pdf(x)\n",
      "    >>> samples = stats.maxwell.rvs(size=10000)\n",
      "    \n",
      "    >>> bin_means, bin_edges, binnumber = stats.binned_statistic(x, x_pdf,\n",
      "    ...         statistic='mean', bins=25)\n",
      "    >>> bin_width = (bin_edges[1] - bin_edges[0])\n",
      "    >>> bin_centers = bin_edges[1:] - bin_width/2\n",
      "    \n",
      "    >>> plt.figure()\n",
      "    >>> plt.hist(samples, bins=50, density=True, histtype='stepfilled',\n",
      "    ...          alpha=0.2, label='histogram of data')\n",
      "    >>> plt.plot(x, x_pdf, 'r-', label='analytical pdf')\n",
      "    >>> plt.hlines(bin_means, bin_edges[:-1], bin_edges[1:], colors='g', lw=2,\n",
      "    ...            label='binned statistic of data')\n",
      "    >>> plt.plot((binnumber - 0.5) * bin_width, x_pdf, 'g.', alpha=0.5)\n",
      "    >>> plt.legend(fontsize=10)\n",
      "    >>> plt.show()\n",
      "\n"
     ]
    }
   ],
   "source": [
    "from scipy.stats import binned_statistic\n",
    "\n",
    "help(binned_statistic)"
   ]
  },
  {
   "cell_type": "code",
   "execution_count": 2,
   "metadata": {},
   "outputs": [],
   "source": [
    "from plottery.plotutils import savefig, update_rcParams\n",
    "update_rcParams()"
   ]
  },
  {
   "cell_type": "code",
   "execution_count": 3,
   "metadata": {},
   "outputs": [],
   "source": [
    "filename = 'data/eagle_L0100N1504/history/history.h5'"
   ]
  },
  {
   "cell_type": "code",
   "execution_count": null,
   "metadata": {},
   "outputs": [],
   "source": [
    "np.random.seed(31)"
   ]
  },
  {
   "cell_type": "code",
   "execution_count": 5,
   "metadata": {},
   "outputs": [
    {
     "name": "stdout",
     "output_type": "stream",
     "text": [
      "<KeysViewHDF5 ['cent', 'first_infall', 'last_infall', 'sat', 'trackids']>\n",
      "cent <KeysViewHDF5 ['Mbound', 'Mdm', 'Mgas', 'Mstar', 'isnap', 'time', 'z']>\n",
      "first_infall <KeysViewHDF5 ['Mbound', 'Mdm', 'Mgas', 'Mstar', 'isnap', 'time', 'z']>\n",
      "last_infall <KeysViewHDF5 ['Mbound', 'Mdm', 'Mgas', 'Mstar', 'isnap', 'time', 'z']>\n",
      "sat <KeysViewHDF5 ['Mbound', 'Mdm', 'Mgas', 'Mstar', 'isnap', 'time', 'z']>\n",
      "trackids <KeysViewHDF5 ['TrackId', 'TrackId_current_host', 'TrackId_previous_host']>\n",
      "tr ItemsViewHDF5(<HDF5 group \"/trackids\" (3 members)>)\n",
      "[    26  90621   1221 ... 512106 148399 512132]\n"
     ]
    },
    {
     "data": {
      "text/plain": [
       "(75566,)"
      ]
     },
     "execution_count": 5,
     "metadata": {},
     "output_type": "execute_result"
    }
   ],
   "source": [
    "with h5py.File(filename, 'r') as hdf:\n",
    "    print(hdf.keys())\n",
    "    for key in hdf.keys():\n",
    "        print(key, hdf[key].keys())\n",
    "    tr = hdf.get('trackids')\n",
    "    print('tr', tr.items())\n",
    "    trackid = np.array(hdf.get('trackids/TrackId_current_host'))\n",
    "    msat = np.array(hdf.get('sat/Mbound'))\n",
    "    mfinf = np.array(hdf.get('first_infall/Mbound'))\n",
    "    mlinf = np.array(hdf.get('last_infall/Mbound'))\n",
    "print(trackid)\n",
    "msat.shape"
   ]
  },
  {
   "cell_type": "code",
   "execution_count": 7,
   "metadata": {},
   "outputs": [
    {
     "name": "stdout",
     "output_type": "stream",
     "text": [
      "[7.485e+02 1.448e+02 5.594e+01 ... 1.080e-01 2.247e-01 1.697e-01]\n",
      "[7.4829114e+02 1.4473894e+02 5.3317688e+01 ... 1.0723877e-01 2.2470538e-01\n",
      " 1.6963711e-01]\n"
     ]
    }
   ],
   "source": [
    "print(mfinf)\n",
    "print(mlinf)"
   ]
  },
  {
   "cell_type": "code",
   "execution_count": 13,
   "metadata": {},
   "outputs": [],
   "source": [
    "df = pd.DataFrame({'x': np.random.random(10)})"
   ]
  },
  {
   "cell_type": "code",
   "execution_count": 36,
   "metadata": {},
   "outputs": [
    {
     "data": {
      "text/plain": [
       "array([    26,  90621,   1221, ..., 512106, 148399, 512132], dtype=int32)"
      ]
     },
     "execution_count": 36,
     "metadata": {},
     "output_type": "execute_result"
    }
   ],
   "source": [
    "trackid"
   ]
  },
  {
   "cell_type": "code",
   "execution_count": 38,
   "metadata": {},
   "outputs": [
    {
     "name": "stdout",
     "output_type": "stream",
     "text": [
      "Help on built-in function default_rng in module numpy.random._generator:\n",
      "\n",
      "default_rng(...)\n",
      "    Construct a new Generator with the default BitGenerator (PCG64).\n",
      "    \n",
      "    Parameters\n",
      "    ----------\n",
      "    seed : {None, int, array_like[ints], SeedSequence, BitGenerator, Generator}, optional\n",
      "        A seed to initialize the `BitGenerator`. If None, then fresh,\n",
      "        unpredictable entropy will be pulled from the OS. If an ``int`` or\n",
      "        ``array_like[ints]`` is passed, then it will be passed to\n",
      "        `SeedSequence` to derive the initial `BitGenerator` state. One may also\n",
      "        pass in a`SeedSequence` instance\n",
      "        Additionally, when passed a `BitGenerator`, it will be wrapped by\n",
      "        `Generator`. If passed a `Generator`, it will be returned unaltered.\n",
      "    \n",
      "    Returns\n",
      "    -------\n",
      "    Generator\n",
      "        The initialized generator object.\n",
      "    \n",
      "    Notes\n",
      "    -----\n",
      "    If ``seed`` is not a `BitGenerator` or a `Generator`, a new `BitGenerator`\n",
      "    is instantiated. This function does not manage a default global instance.\n",
      "\n"
     ]
    }
   ],
   "source": [
    "help(np.random.default_rng)"
   ]
  },
  {
   "cell_type": "code",
   "execution_count": null,
   "metadata": {},
   "outputs": [],
   "source": []
  }
 ],
 "metadata": {
  "kernelspec": {
   "display_name": "Python [conda env:astroconda]",
   "language": "python",
   "name": "conda-env-astroconda-py"
  },
  "language_info": {
   "codemirror_mode": {
    "name": "ipython",
    "version": 3
   },
   "file_extension": ".py",
   "mimetype": "text/x-python",
   "name": "python",
   "nbconvert_exporter": "python",
   "pygments_lexer": "ipython3",
   "version": "3.6.13"
  }
 },
 "nbformat": 4,
 "nbformat_minor": 4
}
